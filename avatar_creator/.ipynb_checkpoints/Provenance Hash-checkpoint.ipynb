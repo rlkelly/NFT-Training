{
 "cells": [
  {
   "cell_type": "code",
   "execution_count": 1,
   "id": "b75c3c06",
   "metadata": {},
   "outputs": [
    {
     "data": {
      "text/plain": [
       "'ff38932bfe916772939cc1c37b8dcf8c48f4b958e0cf2f5dcb474bc619683fdf'"
      ]
     },
     "execution_count": 1,
     "metadata": {},
     "output_type": "execute_result"
    }
   ],
   "source": [
    "import hashlib\n",
    "\n",
    "strings = ['first', 'second', 'third', 'fourth', 'fifth']\n",
    "\n",
    "def hash_to_string(string):\n",
    "    encoded = string.encode()\n",
    "    result = hashlib.sha256(encoded)\n",
    "    return result.digest().hex()\n",
    "\n",
    "provenance_array = ''\n",
    "for string in strings:\n",
    "    provenance_array += hash_to_string(string)\n",
    "\n",
    "hash_to_string(provenance_array)"
   ]
  },
  {
   "cell_type": "code",
   "execution_count": null,
   "id": "a3a91aaf",
   "metadata": {},
   "outputs": [],
   "source": []
  }
 ],
 "metadata": {
  "kernelspec": {
   "display_name": "Python 3 (ipykernel)",
   "language": "python",
   "name": "python3"
  },
  "language_info": {
   "codemirror_mode": {
    "name": "ipython",
    "version": 3
   },
   "file_extension": ".py",
   "mimetype": "text/x-python",
   "name": "python",
   "nbconvert_exporter": "python",
   "pygments_lexer": "ipython3",
   "version": "3.9.7"
  }
 },
 "nbformat": 4,
 "nbformat_minor": 5
}
