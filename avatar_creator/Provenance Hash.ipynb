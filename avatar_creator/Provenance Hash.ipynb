{
 "cells": [
  {
   "cell_type": "code",
   "execution_count": 33,
   "id": "649d21c3",
   "metadata": {},
   "outputs": [],
   "source": [
    "import binascii\n",
    "import hashlib\n",
    "\n",
    "COLLECTION_SIZE = 200"
   ]
  },
  {
   "cell_type": "code",
   "execution_count": 29,
   "id": "b75c3c06",
   "metadata": {},
   "outputs": [
    {
     "data": {
      "text/plain": [
       "'ff38932bfe916772939cc1c37b8dcf8c48f4b958e0cf2f5dcb474bc619683fdf'"
      ]
     },
     "execution_count": 29,
     "metadata": {},
     "output_type": "execute_result"
    }
   ],
   "source": [
    "strings = ['first', 'second', 'third', 'fourth', 'fifth']\n",
    "\n",
    "\n",
    "def hash_to_string(string):\n",
    "    try:\n",
    "        encoded = string.encode()\n",
    "    except:\n",
    "        encoded = string\n",
    "    result = hashlib.sha256(encoded)\n",
    "    return result.digest().hex()\n",
    "\n",
    "provenance_array = ''\n",
    "for string in strings:\n",
    "    provenance_array += hash_to_string(string)\n",
    "\n",
    "hash_to_string(provenance_array)"
   ]
  },
  {
   "cell_type": "code",
   "execution_count": 32,
   "id": "a3a91aaf",
   "metadata": {},
   "outputs": [
    {
     "data": {
      "text/plain": [
       "'09ed3cc3b6a69a42c743dd3af5e75fe521a6263b6f55e849dabdcf46745f67d0'"
      ]
     },
     "execution_count": 32,
     "metadata": {},
     "output_type": "execute_result"
    }
   ],
   "source": [
    "provenance_hash_str = ''\n",
    "for i in range(COLLECTION_SIZE):\n",
    "    with open(f'./pumpkin_collection/reveal/{i}.png', 'rb') as f:\n",
    "        bytes_str = hash_to_string(f.read())\n",
    "        provenance_hash_str += bytes_str\n",
    "hash_to_string(provenance_hash_str)"
   ]
  },
  {
   "cell_type": "code",
   "execution_count": null,
   "id": "953ee3e4",
   "metadata": {},
   "outputs": [],
   "source": []
  },
  {
   "cell_type": "code",
   "execution_count": null,
   "id": "d68473e7",
   "metadata": {},
   "outputs": [],
   "source": []
  },
  {
   "cell_type": "code",
   "execution_count": null,
   "id": "af409128",
   "metadata": {},
   "outputs": [],
   "source": []
  }
 ],
 "metadata": {
  "kernelspec": {
   "display_name": "Python 3 (ipykernel)",
   "language": "python",
   "name": "python3"
  },
  "language_info": {
   "codemirror_mode": {
    "name": "ipython",
    "version": 3
   },
   "file_extension": ".py",
   "mimetype": "text/x-python",
   "name": "python",
   "nbconvert_exporter": "python",
   "pygments_lexer": "ipython3",
   "version": "3.9.7"
  }
 },
 "nbformat": 4,
 "nbformat_minor": 5
}
